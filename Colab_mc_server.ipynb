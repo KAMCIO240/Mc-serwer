{
  "nbformat": 4,
  "nbformat_minor": 0,
  "metadata": {
    "colab": {
      "name": "Kopia notatnika colab-mcserver",
      "provenance": [],
      "collapsed_sections": [],
      "include_colab_link": true
    },
    "kernelspec": {
      "name": "python3",
      "display_name": "Python 3"
    }
  },
  "cells": [
    {
      "cell_type": "markdown",
      "metadata": {
        "id": "view-in-github",
        "colab_type": "text"
      },
      "source": [
        "<a href=\"https://colab.research.google.com/github/KAMCIO240/Mc-serwer/blob/main/Colab_mc_server.ipynb\" target=\"_parent\"><img src=\"https://colab.research.google.com/assets/colab-badge.svg\" alt=\"Open In Colab\"/></a>"
      ]
    },
    {
      "cell_type": "markdown",
      "metadata": {
        "id": "g7UrSvrr0wUf"
      },
      "source": [
        "**SERWER MINECRAFT W GOOGLE COLAB**"
      ]
    },
    {
      "cell_type": "markdown",
      "metadata": {
        "id": "7wrNfinQOlWV"
      },
      "source": [
        "**Pobierz serwer Minecraft**\n",
        "\n",
        "Poniższy kod pobierze PaperMc, wysokowydajne rozwinięcie serwera Vanilla. \n",
        "\n",
        "Używanie Dysku Google jako miejsca na dane."
      ]
    },
    {
      "cell_type": "code",
      "metadata": {
        "id": "Fy5-YjJMPV3S"
      },
      "source": [
        "# Aktualna wersja serwera \"1.16.5\"\n",
        "# Dostępne wersje:\n",
        "# - 1.16.5\n",
        "# - 1.16.4\n",
        "# - 1.16.3\n",
        "# - 1.15.2\n",
        "# - 1.14.4\n",
        "# - 1.13.2\n",
        "# - 1.12.2\n",
        "# - 1.11.2\n",
        "# - 1.10.2\n",
        "# - 1.9.4\n",
        "# - 1.8.8\n",
        "# Nowsze wersje też mogą działać, ale nie jest to gwarantowane.\n",
        "version = '1.16.5'#Tu możesz zmienić wersje serwera na nowszą jeśli jest.\n",
        "\n",
        "from google.colab import drive\n",
        "import requests\n",
        "\n",
        "drive.mount('/content/drive')\n",
        "\n",
        "# Utwórz katalog, który będzie używany dla serwera \n",
        "! mkdir \"/content/drive/My Drive/Minecraft-server\"\n",
        "\n",
        "print('Downloading to Google Drive...')\n",
        "\n",
        "url = 'https://papermc.io/api/v1/paper/' + version + '/latest/download'\n",
        "\n",
        "r = requests.get(url)\n",
        "\n",
        "if r.status_code is 200:\n",
        "  with open('/content/drive/My Drive/Minecraft-server/server.jar', 'wb') as f:\n",
        "    f.write(r.content)\n",
        "  print('Done!')\n",
        "else:\n",
        "  print('Error '+ str(r.status_code) + '! Most likely you entered a unsupported version. Try running the code again if you think that shouldn\\'t have happened.')"
      ],
      "execution_count": null,
      "outputs": []
    },
    {
      "cell_type": "markdown",
      "metadata": {
        "id": "8BX7BKPr2b5s"
      },
      "source": [
        "## **Uruchom Serwer**\n",
        "\n",
        "To polecenie włączy twój serwer\n",
        "\n",
        "Pierwsza instalacja zostanie anulowana z powodu eula, możesz zaakceptować ją automatycznie za pomocą następnego polecenia."
      ]
    },
    {
      "cell_type": "code",
      "metadata": {
        "id": "lqtMoYg0dUmu"
      },
      "source": [
        "# Zaktualizuj liste pakietów \n",
        "!sudo apt update &>/dev/null && echo \"apt cache successfully updated\" || echo \"apt cache update failed, you might receive stale packages\"\n",
        "# Zainstaluj OpenJDK 15\n",
        "!wget -qO - https://adoptopenjdk.jfrog.io/adoptopenjdk/api/gpg/key/public | sudo apt-key add -\n",
        "!sudo add-apt-repository --yes https://adoptopenjdk.jfrog.io/adoptopenjdk/deb/ &>/dev/null || echo \"Failed to add repo. Still can be ignored if openjdk15 gets installed.\"\n",
        "!sudo apt-get install adoptopenjdk-15-hotspot-jre &>/dev/null && echo \"Yay! Openjdk15 has been successfully installed.\" || echo \"Failed to install OpenJdk15.\"\n",
        "#Wykonaj sprawdzenie wersji Java \n",
        "java_ver = !java -version 2>&1 | awk -F[\\\"\\.] -v OFS=. 'NR==1{print $2}'\n",
        "if java_ver[0] == \"15\" :\n",
        "  print(\"Openjdk15 is working correctly, you are good to go.\")\n",
        "else:\n",
        "  print(\"Openjdk15 doesn't seems to be installed or isn't working, falling back to java\", java_ver[0], \". You might experience reduced performance.\")\n",
        " \n",
        "# Zamontuj Dysk Google\n",
        "from google.colab import drive\n",
        "drive.mount('/content/drive')\n",
        " \n",
        "# Zmień katalog na folder serwera Minecraft na Dysku Google\n",
        "%cd \"/content/drive/My Drive/Minecraft-server\"\n",
        "!ls #wyświetlić zawartość katalogu (aby sprawdzić, czy katalog roboczy został zmieniony) \n",
        " \n",
        "print('Starting server...')\n",
        "!java -Xmx6144M -Xms6144M -XX:+UseG1GC -XX:+ParallelRefProcEnabled -XX:MaxGCPauseMillis=200 -XX:+UnlockExperimentalVMOptions -XX:+DisableExplicitGC -XX:+AlwaysPreTouch -XX:G1NewSizePercent=30 -XX:G1MaxNewSizePercent=40 -XX:G1HeapRegionSize=8M -XX:G1ReservePercent=20 -XX:G1HeapWastePercent=5 -XX:G1MixedGCCountTarget=4 -XX:InitiatingHeapOccupancyPercent=15 -XX:G1MixedGCLiveThresholdPercent=90 -XX:G1RSetUpdatingPauseTimePercent=5 -XX:SurvivorRatio=32 -XX:+PerfDisableSharedMem -XX:MaxTenuringThreshold=1 -Dusing.aikars.flags=https://mcflags.emc.gs -Daikars.new.flags=true -jar server.jar nogui"
      ],
      "execution_count": null,
      "outputs": []
    },
    {
      "cell_type": "markdown",
      "metadata": {
        "id": "EDn2Pi3mpsEv"
      },
      "source": [
        "**Akceptacja Eula i pobieranie serwer Playit.gg**\n",
        "\n",
        "Automatycznie zaakceptuje eula i zainstaluje tunel platyit.gg dla adresu twojego serwera."
      ]
    },
    {
      "cell_type": "code",
      "metadata": {
        "id": "aefCB6cFlle8"
      },
      "source": [
        "# Przed uruchomieniem tego polecenia przeczytaj plik przechowywany w folderze serwera. \n",
        "# Wejdź, także na https://www.minecraft.net/en-us/eula aby przeczytać umowę EULA Minecrafta.\n",
        "\n",
        "# Upewnij się, że dysk jest zamontowany.\n",
        "from google.colab import drive\n",
        "drive.mount('/content/drive')\n",
        "\n",
        "%cd \"/content/drive/My Drive/Minecraft-server\"\n",
        "! sed -i 's/eula=false/eula=true/g' eula.txt\n",
        "# Instalowanie serwera Playit.gg \n",
        "! wget https://playit.gg/downloads/playit-linux_64-0.2.0-beta-rc-3"
      ],
      "execution_count": null,
      "outputs": []
    },
    {
      "cell_type": "markdown",
      "metadata": {
        "id": "qJ76Wy2breqW"
      },
      "source": [
        "# **Utwórz adres IP tunelu serwera**\n",
        "Uruchom Playit Tunnel. **Jest to ważne przed uruchomieniem serwera!**\n",
        "\n",
        "Upewnij się, że najpierw uruchomiłeś to, a potem serwer Minecraft!\n",
        "\n",
        "1.   Uruchom !tmux \n",
        "2.   Wpisz lub skopiuj następujące polecenia\n",
        "3.   **chmod +x playit-linux_64-0.2.0-beta-rc-3**\n",
        "3.   **./playit-linux_64-0.2.0-beta-rc-3**\n",
        "4.    Wklej wygenerowany link do swojej przeglądarki, tam zobaczysz adres swojego serwera.\n",
        "5.    Zatrzymaj proces tmux po zakończeniu aktywacji tunelu.\n"
      ]
    },
    {
      "cell_type": "code",
      "metadata": {
        "id": "gcR6rHdcrdTC"
      },
      "source": [
        "!tmux"
      ],
      "execution_count": null,
      "outputs": []
    },
    {
      "cell_type": "markdown",
      "metadata": {
        "id": "a4F1uhJf1h02"
      },
      "source": [
        "# Zrobione! \n",
        "\n",
        "następnym razem, gdy tu wrócisz, uruchom odtwarzanie ponownie, a następnie uruchom serwer!"
      ]
    }
  ]
}